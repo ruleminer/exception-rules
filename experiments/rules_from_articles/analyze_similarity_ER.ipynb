{
 "cells": [
  {
   "cell_type": "code",
   "execution_count": 1,
   "metadata": {},
   "outputs": [],
   "source": [
    "import pandas as pd\n",
    "from scipy.io import arff\n",
    "\n",
    "import os\n",
    "import sys\n",
    "\n",
    "# Zakładamy, że foldery 'exception-rules' i 'decision-rules' są w katalogu nadrzędnym względem aktualnego working directory\n",
    "notebook_dir = os.getcwd()\n",
    "\n",
    "exception_rules_path = os.path.abspath(os.path.join(notebook_dir, '..',  '..', 'exception-rules'))\n",
    "decision_rules_path = os.path.abspath(os.path.join(notebook_dir, '..',  '..', 'decision-rules'))\n",
    "\n",
    "sys.path.append(exception_rules_path)\n",
    "sys.path.append(decision_rules_path)"
   ]
  },
  {
   "cell_type": "code",
   "execution_count": 2,
   "metadata": {},
   "outputs": [],
   "source": [
    "from exception_rules.measures import *"
   ]
  },
  {
   "cell_type": "markdown",
   "metadata": {},
   "source": [
    "## Our aproach"
   ]
  },
  {
   "cell_type": "code",
   "execution_count": 3,
   "metadata": {},
   "outputs": [],
   "source": [
    "df = pd.DataFrame(arff.loadarff(f\"./mushroom.arff\")[0])\n",
    "# code to change encoding of the file\n",
    "tmp_df = df.select_dtypes([object])\n",
    "tmp_df = tmp_df.stack().str.decode(\"utf-8\").unstack()\n",
    "for col in tmp_df:\n",
    "    df[col] = tmp_df[col].replace({'?': None})\n",
    "    \n",
    "X = df.drop(columns=[\"class\"])\n",
    "y = df[\"class\"]"
   ]
  },
  {
   "cell_type": "code",
   "execution_count": 4,
   "metadata": {},
   "outputs": [],
   "source": [
    "from decision_rules.ruleset_factories._factories.classification.text_factory import TextRuleSetFactory"
   ]
  },
  {
   "cell_type": "code",
   "execution_count": 5,
   "metadata": {},
   "outputs": [],
   "source": [
    "with open(f\"./txt_only_ER/Our_approach_rules.txt\") as file:\n",
    "    ruleset_text_our = file.readlines()\n",
    "\n",
    "factory = TextRuleSetFactory()\n",
    "\n",
    "ruleset_our = factory.make(ruleset_text_our, X, y)\n",
    "\n",
    "\n",
    "\n",
    "with open(f\"./txt_only_ER/MEPRO_rules.txt\") as file:\n",
    "    ruleset_text_MEPRO = file.readlines()\n",
    "\n",
    "factory = TextRuleSetFactory()\n",
    "\n",
    "ruleset_MEPRO = factory.make(ruleset_text_MEPRO, X, y)\n",
    "\n",
    "\n",
    "with open(f\"./txt_only_ER/MEPROUX_rules.txt\") as file:\n",
    "    ruleset_text_MEPROUX = file.readlines()\n",
    "\n",
    "factory = TextRuleSetFactory()\n",
    "\n",
    "ruleset_MEPROUX = factory.make(ruleset_text_MEPROUX, X, y)\n",
    "\n",
    "\n",
    "\n",
    "with open(f\"./txt_only_ER/Hussain_rules.txt\") as file:\n",
    "    ruleset_text_Hussain = file.readlines()\n",
    "\n",
    "\n",
    "factory = TextRuleSetFactory()\n",
    "\n",
    "ruleset_Hussain = factory.make(ruleset_text_Hussain, X, y)\n",
    "\n",
    "\n",
    "\n",
    "with open(f\"./txt_only_ER/Ant_colony_rules.txt\") as file:\n",
    "    ruleset_text_Ant_colony = file.readlines()\n",
    "\n",
    "\n",
    "factory = TextRuleSetFactory()\n",
    "\n",
    "ruleset_Ant_colony = factory.make(ruleset_text_Ant_colony, X, y)"
   ]
  },
  {
   "cell_type": "code",
   "execution_count": 6,
   "metadata": {},
   "outputs": [],
   "source": [
    "from decision_rules.similarity.calculate import calculate_rule_similarity, SimilarityType\n",
    "from decision_rules.similarity.semantic import SimilarityMeasure"
   ]
  },
  {
   "cell_type": "code",
   "execution_count": 7,
   "metadata": {},
   "outputs": [],
   "source": [
    "import numpy as np"
   ]
  },
  {
   "cell_type": "code",
   "execution_count": 8,
   "metadata": {},
   "outputs": [
    {
     "name": "stdout",
     "output_type": "stream",
     "text": [
      "Największa wartość: 0.05263158\n",
      "Indeks (wiersz, kolumna): (0, 0)\n"
     ]
    }
   ],
   "source": [
    "similarity = calculate_rule_similarity(ruleset_our, ruleset_MEPRO,X, SimilarityType.SEMANTIC,  SimilarityMeasure.JACCARD)\n",
    "\n",
    "max_index = np.unravel_index(np.argmax(similarity), similarity.shape)\n",
    "max_value = np.max(similarity)\n",
    "\n",
    "print(\"Największa wartość:\", max_value)\n",
    "print(\"Indeks (wiersz, kolumna):\", max_index)"
   ]
  },
  {
   "cell_type": "code",
   "execution_count": 9,
   "metadata": {},
   "outputs": [
    {
     "name": "stdout",
     "output_type": "stream",
     "text": [
      "Największa wartość: 0.0\n",
      "Indeks (wiersz, kolumna): (0, 0)\n"
     ]
    }
   ],
   "source": [
    "similarity = calculate_rule_similarity(ruleset_our, ruleset_MEPROUX,X, SimilarityType.SEMANTIC,  SimilarityMeasure.JACCARD)\n",
    "\n",
    "max_index = np.unravel_index(np.argmax(similarity), similarity.shape)\n",
    "max_value = np.max(similarity)\n",
    "\n",
    "print(\"Największa wartość:\", max_value)\n",
    "print(\"Indeks (wiersz, kolumna):\", max_index)"
   ]
  },
  {
   "cell_type": "code",
   "execution_count": 10,
   "metadata": {},
   "outputs": [
    {
     "name": "stdout",
     "output_type": "stream",
     "text": [
      "Największa wartość: 0.0\n",
      "Indeks (wiersz, kolumna): (0, 0)\n"
     ]
    }
   ],
   "source": [
    "similarity = calculate_rule_similarity(ruleset_our, ruleset_Hussain,X, SimilarityType.SEMANTIC,  SimilarityMeasure.JACCARD)\n",
    "\n",
    "max_index = np.unravel_index(np.argmax(similarity), similarity.shape)\n",
    "max_value = np.max(similarity)\n",
    "\n",
    "print(\"Największa wartość:\", max_value)\n",
    "print(\"Indeks (wiersz, kolumna):\", max_index)"
   ]
  },
  {
   "cell_type": "code",
   "execution_count": 11,
   "metadata": {},
   "outputs": [
    {
     "name": "stdout",
     "output_type": "stream",
     "text": [
      "Największa wartość: 1.0\n",
      "Indeks (wiersz, kolumna): (1, 0)\n"
     ]
    }
   ],
   "source": [
    "similarity = calculate_rule_similarity(ruleset_our, ruleset_Ant_colony,X, SimilarityType.SEMANTIC,  SimilarityMeasure.JACCARD)\n",
    "\n",
    "max_index = np.unravel_index(np.argmax(similarity), similarity.shape)\n",
    "max_value = np.max(similarity)\n",
    "\n",
    "print(\"Największa wartość:\", max_value)\n",
    "print(\"Indeks (wiersz, kolumna):\", max_index)"
   ]
  }
 ],
 "metadata": {
  "kernelspec": {
   "display_name": "exception-rules",
   "language": "python",
   "name": "python3"
  },
  "language_info": {
   "codemirror_mode": {
    "name": "ipython",
    "version": 3
   },
   "file_extension": ".py",
   "mimetype": "text/x-python",
   "name": "python",
   "nbconvert_exporter": "python",
   "pygments_lexer": "ipython3",
   "version": "3.10.15"
  }
 },
 "nbformat": 4,
 "nbformat_minor": 2
}
