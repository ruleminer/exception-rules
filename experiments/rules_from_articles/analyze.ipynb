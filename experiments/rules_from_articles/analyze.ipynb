{
 "cells": [
  {
   "cell_type": "code",
   "execution_count": 1,
   "metadata": {},
   "outputs": [],
   "source": [
    "import pandas as pd\n",
    "from scipy.io import arff\n",
    "\n",
    "import os\n",
    "import sys\n",
    "\n",
    "# Zakładamy, że foldery 'exception-rules' i 'decision-rules' są w katalogu nadrzędnym względem aktualnego working directory\n",
    "notebook_dir = os.getcwd()\n",
    "\n",
    "exception_rules_path = os.path.abspath(os.path.join(notebook_dir, '..',  '..', 'exception-rules'))\n",
    "decision_rules_path = os.path.abspath(os.path.join(notebook_dir, '..',  '..', 'decision-rules'))\n",
    "\n",
    "sys.path.append(exception_rules_path)\n",
    "sys.path.append(decision_rules_path)"
   ]
  },
  {
   "cell_type": "code",
   "execution_count": null,
   "metadata": {},
   "outputs": [],
   "source": [
    "\n"
   ]
  },
  {
   "cell_type": "code",
   "execution_count": 2,
   "metadata": {},
   "outputs": [],
   "source": [
    "from exception_rules.measures import *"
   ]
  },
  {
   "cell_type": "markdown",
   "metadata": {},
   "source": [
    "## Our aproach"
   ]
  },
  {
   "cell_type": "code",
   "execution_count": 3,
   "metadata": {},
   "outputs": [],
   "source": [
    "df = pd.DataFrame(arff.loadarff(f\"./mushroom.arff\")[0])\n",
    "# code to change encoding of the file\n",
    "tmp_df = df.select_dtypes([object])\n",
    "tmp_df = tmp_df.stack().str.decode(\"utf-8\").unstack()\n",
    "for col in tmp_df:\n",
    "    df[col] = tmp_df[col].replace({'?': None})\n",
    "    \n",
    "X = df.drop(columns=[\"class\"])\n",
    "y = df[\"class\"]"
   ]
  },
  {
   "cell_type": "code",
   "execution_count": 4,
   "metadata": {},
   "outputs": [],
   "source": [
    "with open(f\"./txt/Our_approach_rules.txt\") as file:\n",
    "    ruleset_text = file.readlines()"
   ]
  },
  {
   "cell_type": "code",
   "execution_count": 5,
   "metadata": {},
   "outputs": [],
   "source": [
    "from decision_rules.ruleset_factories._factories.classification.text_factory import TextRuleSetFactory"
   ]
  },
  {
   "cell_type": "code",
   "execution_count": 6,
   "metadata": {},
   "outputs": [],
   "source": [
    "factory = TextRuleSetFactory()\n",
    "\n",
    "ruleset = factory.make(ruleset_text, X, y)"
   ]
  },
  {
   "cell_type": "code",
   "execution_count": 7,
   "metadata": {},
   "outputs": [
    {
     "name": "stdout",
     "output_type": "stream",
     "text": [
      "IF odor = {f} THEN class = p (p=2160, n=0, P=3916, N=4208)\n",
      "IF gill-color = {b} THEN class = p (p=1728, n=0, P=3916, N=4208)\n",
      "IF stalk-surface-above-ring = {k} AND gill-spacing = {c} THEN class = p (p=2228, n=0, P=3916, N=4208)\n",
      "IF gill-size = {n} THEN class = p (p=2224, n=288, P=3916, N=4208)\n",
      "IF spore-print-color = {h} THEN class = p (p=1584, n=48, P=3916, N=4208)\n",
      "IF gill-size = {n} AND spore-print-color = {h} THEN class = e (p=48, n=0, P=4208, N=3916)\n",
      "IF spore-print-color = {r} THEN class = p (p=72, n=0, P=3916, N=4208)\n",
      "IF odor = {n} THEN class = e (p=3408, n=120, P=4208, N=3916)\n",
      "IF stalk-root = {c} THEN class = e (p=512, n=44, P=4208, N=3916)\n",
      "IF odor = {n} AND stalk-root = {c} THEN class = p (p=8, n=0, P=3916, N=4208)\n",
      "IF odor = {a} THEN class = e (p=400, n=0, P=4208, N=3916)\n",
      "IF odor = {l} THEN class = e (p=400, n=0, P=4208, N=3916)\n"
     ]
    }
   ],
   "source": [
    "for rule in ruleset.rules:\n",
    "    print(rule)"
   ]
  },
  {
   "cell_type": "code",
   "execution_count": 8,
   "metadata": {},
   "outputs": [],
   "source": [
    "CR_rules = []\n",
    "CR_rules.append(ruleset.rules[0])\n",
    "CR_rules.append(ruleset.rules[1])\n",
    "CR_rules.append(ruleset.rules[2])\n",
    "CR_rules.append(ruleset.rules[3])\n",
    "CR_rules.append(ruleset.rules[6])\n",
    "CR_rules.append(ruleset.rules[7])\n",
    "\n",
    "CR_rules.append(ruleset.rules[10])\n",
    "CR_rules.append(ruleset.rules[11])\n",
    "\n",
    "CR_rules[3].reference_rule = ruleset.rules[4]\n",
    "CR_rules[3].exception_rule = ruleset.rules[5]\n",
    "CR_rules[5].reference_rule = ruleset.rules[8]\n",
    "CR_rules[5].exception_rule = ruleset.rules[9]"
   ]
  },
  {
   "cell_type": "code",
   "execution_count": 9,
   "metadata": {},
   "outputs": [
    {
     "name": "stdout",
     "output_type": "stream",
     "text": [
      "CR: IF odor = {f} THEN class = p (p=2160, n=0, P=3916, N=4208)\n",
      "\n",
      "CR: IF gill-color = {b} THEN class = p (p=1728, n=0, P=3916, N=4208)\n",
      "\n",
      "CR: IF stalk-surface-above-ring = {k} AND gill-spacing = {c} THEN class = p (p=2228, n=0, P=3916, N=4208)\n",
      "\n",
      "CR: IF gill-size = {n} THEN class = p (p=2224, n=288, P=3916, N=4208), GACE: 0.03, RI: 3.164, RES: 0.576\n",
      "RR: IF spore-print-color = {h} THEN class = p (p=1584, n=48, P=3916, N=4208) \n",
      "ER: IF gill-size = {n} AND spore-print-color = {h} THEN class = e (p=48, n=0, P=4208, N=3916) \n",
      "\n",
      "CR: IF spore-print-color = {r} THEN class = p (p=72, n=0, P=3916, N=4208)\n",
      "\n",
      "CR: IF odor = {n} THEN class = e (p=3408, n=120, P=4208, N=3916), GACE: 0.018, RI: 4.996, RES: 0.672\n",
      "RR: IF stalk-root = {c} THEN class = e (p=512, n=44, P=4208, N=3916) \n",
      "ER: IF odor = {n} AND stalk-root = {c} THEN class = p (p=8, n=0, P=3916, N=4208) \n",
      "\n",
      "CR: IF odor = {a} THEN class = e (p=400, n=0, P=4208, N=3916)\n",
      "\n",
      "CR: IF odor = {l} THEN class = e (p=400, n=0, P=4208, N=3916)\n",
      "\n"
     ]
    },
    {
     "name": "stderr",
     "output_type": "stream",
     "text": [
      "c:\\Users\\dawid\\Desktop\\exception_rules_repo\\exception-rules\\exception-rules\\exception_rules\\measures.py:11: RuntimeWarning: divide by zero encountered in log2\n",
      "  not_X = cov.n/(cov.P + cov.N) * np.log2((cov.n/(cov.p+cov.n))/(cov.N/(cov.P+cov.N)))\n",
      "c:\\Users\\dawid\\Desktop\\exception_rules_repo\\exception-rules\\exception-rules\\exception_rules\\measures.py:11: RuntimeWarning: invalid value encountered in scalar multiply\n",
      "  not_X = cov.n/(cov.P + cov.N) * np.log2((cov.n/(cov.p+cov.n))/(cov.N/(cov.P+cov.N)))\n"
     ]
    }
   ],
   "source": [
    "for rule in CR_rules:\n",
    "    if rule.exception_rule is not None:\n",
    "        GACE = calculate_GACE(rule, rule.exception_rule , return_ACE = False)\n",
    "        RI = calculate_RI(rule, rule.exception_rule , rule.reference_rule)\n",
    "        RES = calculate_my_measure(rule, rule.exception_rule)\n",
    "\n",
    "        print(f\"CR: {rule}, GACE: {round(GACE,3)}, RI: {round(RI,3)}, RES: {round(RES,3)}\")\n",
    "        print(f\"RR: {rule.reference_rule} \")\n",
    "        print(f\"ER: {rule.exception_rule} \")\n",
    "        print(\"\")\n",
    "    else:\n",
    "        print(f\"CR: {rule}\")\n",
    "        print(\"\")\n"
   ]
  },
  {
   "cell_type": "code",
   "execution_count": 10,
   "metadata": {},
   "outputs": [],
   "source": [
    "with open(\"txt_results/Our_approach_rules.txt\", \"w\", encoding=\"utf-8\") as file:\n",
    "    for rule in CR_rules:\n",
    "        if rule.exception_rule is not None:\n",
    "            GACE = calculate_GACE(rule, rule.exception_rule, return_ACE=False)\n",
    "            RI = calculate_RI(rule, rule.exception_rule, rule.reference_rule)\n",
    "            RES = calculate_my_measure(rule, rule.exception_rule)\n",
    "\n",
    "            file.write(f\"CR: {rule}, GACE: {round(GACE,3)}, RI: {round(RI,3)}, RES: {round(RES,3)}\\n\")\n",
    "            file.write(f\"RR: {rule.reference_rule} \\n\")\n",
    "            file.write(f\"ER: {rule.exception_rule} \\n\")\n",
    "            file.write(\"\\n\")\n",
    "        else:\n",
    "            file.write(f\"CR: {rule}\\n\")\n",
    "            file.write(\"\\n\")"
   ]
  },
  {
   "cell_type": "markdown",
   "metadata": {},
   "source": [
    "## MEPRO"
   ]
  },
  {
   "cell_type": "code",
   "execution_count": 11,
   "metadata": {},
   "outputs": [],
   "source": [
    "df = pd.DataFrame(arff.loadarff(f\"./mushroom.arff\")[0])\n",
    "# code to change encoding of the file\n",
    "tmp_df = df.select_dtypes([object])\n",
    "tmp_df = tmp_df.stack().str.decode(\"utf-8\").unstack()\n",
    "for col in tmp_df:\n",
    "    df[col] = tmp_df[col]\n",
    "    \n",
    "X = df.drop(columns=[\"class\"])\n",
    "y = df[\"class\"]"
   ]
  },
  {
   "cell_type": "code",
   "execution_count": 12,
   "metadata": {},
   "outputs": [],
   "source": [
    "with open(f\"./txt/MEPRO_rules.txt\") as file:\n",
    "    ruleset_text = file.readlines()"
   ]
  },
  {
   "cell_type": "code",
   "execution_count": 13,
   "metadata": {},
   "outputs": [],
   "source": [
    "from decision_rules.ruleset_factories._factories.classification.text_factory import TextRuleSetFactory"
   ]
  },
  {
   "cell_type": "code",
   "execution_count": 14,
   "metadata": {},
   "outputs": [],
   "source": [
    "factory = TextRuleSetFactory()\n",
    "\n",
    "ruleset = factory.make(ruleset_text, X, y)"
   ]
  },
  {
   "cell_type": "code",
   "execution_count": 15,
   "metadata": {},
   "outputs": [
    {
     "name": "stdout",
     "output_type": "stream",
     "text": [
      "IF bruises = {f} AND gill-attachment = {f} AND ring-number = {o} THEN class = p (p=3256, n=960, P=3916, N=4208)\n",
      "IF odor = {n} AND stalk-color-below-ring = {w} THEN class = e (p=1904, n=80, P=4208, N=3916)\n",
      "IF bruises = {f} AND gill-attachment = {f} AND ring-number = {o} AND odor = {n} AND stalk-color-below-ring = {w} THEN class = e (p=912, n=0, P=4208, N=3916)\n",
      "IF bruises = {f} AND veil-color = {w} AND ring-number = {o} THEN class = p (p=3248, n=960, P=3916, N=4208)\n",
      "IF odor = {n} AND stalk-color-below-ring = {w} THEN class = e (p=1904, n=80, P=4208, N=3916)\n",
      "IF bruises = {f} AND veil-color = {w} AND ring-number = {o} AND odor = {n} AND stalk-color-below-ring = {w} THEN class = e (p=912, n=0, P=4208, N=3916)\n",
      "IF gill-size = {b} THEN class = e (p=3920, n=1692, P=4208, N=3916)\n",
      "IF odor = {f} THEN class = p (p=2160, n=0, P=3916, N=4208)\n",
      "IF gill-size = {b} AND odor = {f} THEN class = p (p=1584, n=0, P=3916, N=4208)\n",
      "IF gill-size = {b} THEN class = e (p=3920, n=1692, P=4208, N=3916)\n",
      "IF spore-print-color = {h} THEN class = p (p=1584, n=48, P=3916, N=4208)\n",
      "IF gill-size = {b} AND spore-print-color = {h} THEN class = p (p=1584, n=0, P=3916, N=4208)\n",
      "IF bruises = {f} AND veil-color = {w} THEN class = p (p=3284, n=1264, P=3916, N=4208)\n",
      "IF odor = {n} AND stalk-color-below-ring = {w} THEN class = e (p=1904, n=80, P=4208, N=3916)\n",
      "IF bruises = {f} AND veil-color = {w} AND odor = {n} AND stalk-color-below-ring = {w} THEN class = e (p=1200, n=0, P=4208, N=3916)\n",
      "IF bruises = {f} AND gill-attachment = {f} AND ring-number = {o} THEN class = p (p=3256, n=960, P=3916, N=4208)\n",
      "IF stalk-root = {e} THEN class = e (p=864, n=256, P=4208, N=3916)\n",
      "IF bruises = {f} AND gill-attachment = {f} AND ring-number = {o} AND stalk-root = {e} THEN class = e (p=864, n=0, P=4208, N=3916)\n",
      "IF bruises = {f} AND gill-attachment = {f} THEN class = p (p=3274, n=1264, P=3916, N=4208)\n",
      "IF odor = {n} AND stalk-color-below-ring = {w} THEN class = e (p=1904, n=80, P=4208, N=3916)\n",
      "IF bruises = {f} AND gill-attachment = {f} AND odor = {n} AND stalk-color-below-ring = {w} THEN class = e (p=1200, n=0, P=4208, N=3916)\n",
      "IF bruises = {f} AND veil-color = {w} AND ring-number = {o} THEN class = p (p=3248, n=960, P=3916, N=4208)\n",
      "IF stalk-root = {e} THEN class = e (p=864, n=256, P=4208, N=3916)\n",
      "IF bruises = {f} AND veil-color = {w} AND ring-number = {o} AND stalk-root = {e} THEN class = e (p=864, n=0, P=4208, N=3916)\n"
     ]
    }
   ],
   "source": [
    "for rule in ruleset.rules:\n",
    "    print(rule)"
   ]
  },
  {
   "cell_type": "code",
   "execution_count": 16,
   "metadata": {},
   "outputs": [],
   "source": [
    "CR_rules = []\n",
    "\n",
    "for i in range(0, len(ruleset.rules), 3):\n",
    "    ruleset.rules[i].reference_rule = ruleset.rules[i + 1]\n",
    "    ruleset.rules[i].exception_rule = ruleset.rules[i + 2]\n",
    "    CR_rules.append(ruleset.rules[i])\n"
   ]
  },
  {
   "cell_type": "code",
   "execution_count": 17,
   "metadata": {},
   "outputs": [
    {
     "name": "stdout",
     "output_type": "stream",
     "text": [
      "CR: IF bruises = {f} AND gill-attachment = {f} AND ring-number = {o} THEN class = p (p=3256, n=960, P=3916, N=4208), GACE: 0.119, RI: 2.367, RES: 0.903\n",
      "RR: IF odor = {n} AND stalk-color-below-ring = {w} THEN class = e (p=1904, n=80, P=4208, N=3916) \n",
      "ER: IF bruises = {f} AND gill-attachment = {f} AND ring-number = {o} AND odor = {n} AND stalk-color-below-ring = {w} THEN class = e (p=912, n=0, P=4208, N=3916) \n",
      "\n",
      "CR: IF bruises = {f} AND veil-color = {w} AND ring-number = {o} THEN class = p (p=3248, n=960, P=3916, N=4208), GACE: 0.118, RI: 2.364, RES: 0.902\n",
      "RR: IF odor = {n} AND stalk-color-below-ring = {w} THEN class = e (p=1904, n=80, P=4208, N=3916) \n",
      "ER: IF bruises = {f} AND veil-color = {w} AND ring-number = {o} AND odor = {n} AND stalk-color-below-ring = {w} THEN class = e (p=912, n=0, P=4208, N=3916) \n",
      "\n",
      "CR: IF gill-size = {b} THEN class = e (p=3920, n=1692, P=4208, N=3916), GACE: 0.117, RI: 2.015, RES: 0.95\n",
      "RR: IF odor = {f} THEN class = p (p=2160, n=0, P=3916, N=4208) \n",
      "ER: IF gill-size = {b} AND odor = {f} THEN class = p (p=1584, n=0, P=3916, N=4208) \n",
      "\n",
      "CR: IF gill-size = {b} THEN class = e (p=3920, n=1692, P=4208, N=3916), GACE: 0.117, RI: 2.119, RES: 0.95\n",
      "RR: IF spore-print-color = {h} THEN class = p (p=1584, n=48, P=3916, N=4208) \n",
      "ER: IF gill-size = {b} AND spore-print-color = {h} THEN class = p (p=1584, n=0, P=3916, N=4208) \n",
      "\n",
      "CR: IF bruises = {f} AND veil-color = {w} THEN class = p (p=3284, n=1264, P=3916, N=4208), GACE: 0.116, RI: 2.134, RES: 0.907\n",
      "RR: IF odor = {n} AND stalk-color-below-ring = {w} THEN class = e (p=1904, n=80, P=4208, N=3916) \n",
      "ER: IF bruises = {f} AND veil-color = {w} AND odor = {n} AND stalk-color-below-ring = {w} THEN class = e (p=1200, n=0, P=4208, N=3916) \n",
      "\n",
      "CR: IF bruises = {f} AND gill-attachment = {f} AND ring-number = {o} THEN class = p (p=3256, n=960, P=3916, N=4208), GACE: 0.116, RI: 2.755, RES: 0.891\n",
      "RR: IF stalk-root = {e} THEN class = e (p=864, n=256, P=4208, N=3916) \n",
      "ER: IF bruises = {f} AND gill-attachment = {f} AND ring-number = {o} AND stalk-root = {e} THEN class = e (p=864, n=0, P=4208, N=3916) \n",
      "\n",
      "CR: IF bruises = {f} AND gill-attachment = {f} THEN class = p (p=3274, n=1264, P=3916, N=4208), GACE: 0.116, RI: 2.13, RES: 0.905\n",
      "RR: IF odor = {n} AND stalk-color-below-ring = {w} THEN class = e (p=1904, n=80, P=4208, N=3916) \n",
      "ER: IF bruises = {f} AND gill-attachment = {f} AND odor = {n} AND stalk-color-below-ring = {w} THEN class = e (p=1200, n=0, P=4208, N=3916) \n",
      "\n",
      "CR: IF bruises = {f} AND veil-color = {w} AND ring-number = {o} THEN class = p (p=3248, n=960, P=3916, N=4208), GACE: 0.115, RI: 2.753, RES: 0.89\n",
      "RR: IF stalk-root = {e} THEN class = e (p=864, n=256, P=4208, N=3916) \n",
      "ER: IF bruises = {f} AND veil-color = {w} AND ring-number = {o} AND stalk-root = {e} THEN class = e (p=864, n=0, P=4208, N=3916) \n",
      "\n"
     ]
    },
    {
     "name": "stderr",
     "output_type": "stream",
     "text": [
      "c:\\Users\\dawid\\Desktop\\exception_rules_repo\\exception-rules\\exception-rules\\exception_rules\\measures.py:11: RuntimeWarning: divide by zero encountered in log2\n",
      "  not_X = cov.n/(cov.P + cov.N) * np.log2((cov.n/(cov.p+cov.n))/(cov.N/(cov.P+cov.N)))\n",
      "c:\\Users\\dawid\\Desktop\\exception_rules_repo\\exception-rules\\exception-rules\\exception_rules\\measures.py:11: RuntimeWarning: invalid value encountered in scalar multiply\n",
      "  not_X = cov.n/(cov.P + cov.N) * np.log2((cov.n/(cov.p+cov.n))/(cov.N/(cov.P+cov.N)))\n"
     ]
    }
   ],
   "source": [
    "for rule in CR_rules:\n",
    "    if rule.exception_rule is not None:\n",
    "        GACE = calculate_GACE(rule, rule.exception_rule , return_ACE = False)\n",
    "        RI = calculate_RI(rule, rule.exception_rule , rule.reference_rule)\n",
    "        RES = calculate_my_measure(rule, rule.exception_rule)\n",
    "\n",
    "        print(f\"CR: {rule}, GACE: {round(GACE,3)}, RI: {round(RI,3)}, RES: {round(RES,3)}\")\n",
    "        print(f\"RR: {rule.reference_rule} \")\n",
    "        print(f\"ER: {rule.exception_rule} \")\n",
    "        print(\"\")\n",
    "\n",
    "    else:\n",
    "        print(f\"CR: {rule}\")\n",
    "        print(\"\")"
   ]
  },
  {
   "cell_type": "code",
   "execution_count": 18,
   "metadata": {},
   "outputs": [],
   "source": [
    "with open(\"txt_results/MEPRO_rules.txt\", \"w\", encoding=\"utf-8\") as file:\n",
    "    for rule in CR_rules:\n",
    "        if rule.exception_rule is not None:\n",
    "            GACE = calculate_GACE(rule, rule.exception_rule, return_ACE=False)\n",
    "            RI = calculate_RI(rule, rule.exception_rule, rule.reference_rule)\n",
    "            RES = calculate_my_measure(rule, rule.exception_rule)\n",
    "\n",
    "            file.write(f\"CR: {rule}, GACE: {round(GACE,3)}, RI: {round(RI,3)}, RES: {round(RES,3)}\\n\")\n",
    "            file.write(f\"RR: {rule.reference_rule} \\n\")\n",
    "            file.write(f\"ER: {rule.exception_rule} \\n\")\n",
    "            file.write(\"\\n\")\n",
    "        else:\n",
    "            file.write(f\"CR: {rule}\\n\")\n",
    "            file.write(\"\\n\")"
   ]
  },
  {
   "cell_type": "markdown",
   "metadata": {},
   "source": [
    "## MEPROUX"
   ]
  },
  {
   "cell_type": "code",
   "execution_count": 19,
   "metadata": {},
   "outputs": [],
   "source": [
    "df = pd.DataFrame(arff.loadarff(f\"./mushroom.arff\")[0])\n",
    "# code to change encoding of the file\n",
    "tmp_df = df.select_dtypes([object])\n",
    "tmp_df = tmp_df.stack().str.decode(\"utf-8\").unstack()\n",
    "for col in tmp_df:\n",
    "    df[col] = tmp_df[col]\n",
    "    \n",
    "X = df.drop(columns=[\"class\"])\n",
    "y = df[\"class\"]"
   ]
  },
  {
   "cell_type": "code",
   "execution_count": 20,
   "metadata": {},
   "outputs": [],
   "source": [
    "with open(f\"./txt/MEPROUX_rules.txt\") as file:\n",
    "    ruleset_text = file.readlines()"
   ]
  },
  {
   "cell_type": "code",
   "execution_count": 21,
   "metadata": {},
   "outputs": [],
   "source": [
    "from decision_rules.ruleset_factories._factories.classification.text_factory import TextRuleSetFactory"
   ]
  },
  {
   "cell_type": "code",
   "execution_count": 22,
   "metadata": {},
   "outputs": [],
   "source": [
    "factory = TextRuleSetFactory()\n",
    "\n",
    "ruleset = factory.make(ruleset_text, X, y)"
   ]
  },
  {
   "cell_type": "code",
   "execution_count": 23,
   "metadata": {},
   "outputs": [
    {
     "name": "stdout",
     "output_type": "stream",
     "text": [
      "IF bruises = {f} AND gill-attachment = {f} AND ring-number = {o} THEN class = p (p=3256, n=960, P=3916, N=4208)\n",
      "IF stalk-surface-above-ring = {f} THEN class = e (p=408, n=144, P=4208, N=3916)\n",
      "IF bruises = {f} AND gill-attachment = {f} AND ring-number = {o} AND stalk-surface-above-ring = {f} THEN class = e (p=408, n=0, P=4208, N=3916)\n",
      "IF bruises = {f} AND veil-color = {w} AND ring-number = {o} THEN class = p (p=3248, n=960, P=3916, N=4208)\n",
      "IF stalk-surface-above-ring = {f} THEN class = e (p=408, n=144, P=4208, N=3916)\n",
      "IF bruises = {f} AND veil-color = {w} AND ring-number = {o} AND stalk-surface-above-ring = {f} THEN class = e (p=408, n=0, P=4208, N=3916)\n",
      "IF bruises = {f} AND ring-number = {o} THEN class = e (p=1152, n=3256, P=4208, N=3916)\n",
      "IF stalk-surface-above-ring = {f} THEN class = e (p=408, n=144, P=4208, N=3916)\n",
      "IF bruises = {f} AND ring-number = {o} AND stalk-surface-above-ring = {f} THEN class = e (p=408, n=0, P=4208, N=3916)\n",
      "IF bruises = {f} AND veil-color = {w} THEN class = p (p=3284, n=1264, P=3916, N=4208)\n",
      "IF stalk-surface-above-ring = {f} THEN class = e (p=408, n=144, P=4208, N=3916)\n",
      "IF bruises = {f} AND veil-color = {w} AND stalk-surface-above-ring = {f} THEN class = e (p=408, n=0, P=4208, N=3916)\n",
      "IF bruises = {f} AND gill-attachment = {f} THEN class = p (p=3274, n=1264, P=3916, N=4208)\n",
      "IF stalk-surface-above-ring = {f} THEN class = e (p=408, n=144, P=4208, N=3916)\n",
      "IF bruises = {f} AND gill-attachment = {f} AND stalk-surface-above-ring = {f} THEN class = e (p=408, n=0, P=4208, N=3916)\n",
      "IF stalk-root = {?} AND spore-print-color = {w} THEN class = p (p=1760, n=480, P=3916, N=4208)\n",
      "IF gill-size = {b} THEN class = e (p=3920, n=1692, P=4208, N=3916)\n",
      "IF stalk-root = {?} AND spore-print-color = {w} AND gill-size = {b} THEN class = e (p=480, n=0, P=4208, N=3916)\n",
      "IF bruises = {f} AND veil-color = {w} AND spore-print-color = {w} THEN class = p (p=1796, n=352, P=3916, N=4208)\n",
      "IF gill-spacing = {w} AND stalk-shape = {e} THEN class = e (p=336, n=112, P=4208, N=3916)\n",
      "IF bruises = {f} AND veil-color = {w} AND spore-print-color = {w} AND gill-spacing = {w} AND stalk-shape = {e} THEN class = e (p=336, n=0, P=4208, N=3916)\n",
      "IF bruises = {f} AND gill-attachment = {f} AND ring-number = {o} THEN class = p (p=3256, n=960, P=3916, N=4208)\n",
      "IF cap-color = {w} AND stalk-root = {e} THEN class = e (p=256, n=128, P=4208, N=3916)\n",
      "IF bruises = {f} AND gill-attachment = {f} AND ring-number = {o} AND cap-color = {w} AND stalk-root = {e} THEN class = e (p=256, n=0, P=4208, N=3916)\n"
     ]
    }
   ],
   "source": [
    "for rule in ruleset.rules:\n",
    "    print(rule)"
   ]
  },
  {
   "cell_type": "code",
   "execution_count": 24,
   "metadata": {},
   "outputs": [],
   "source": [
    "CR_rules = []\n",
    "\n",
    "for i in range(0, len(ruleset.rules), 3):\n",
    "    ruleset.rules[i].reference_rule = ruleset.rules[i + 1]\n",
    "    ruleset.rules[i].exception_rule = ruleset.rules[i + 2]\n",
    "    CR_rules.append(ruleset.rules[i])"
   ]
  },
  {
   "cell_type": "code",
   "execution_count": 25,
   "metadata": {},
   "outputs": [
    {
     "name": "stdout",
     "output_type": "stream",
     "text": [
      "CR: IF bruises = {f} AND gill-attachment = {f} AND ring-number = {o} THEN class = p (p=3256, n=960, P=3916, N=4208), GACE: 0.079, RI: 2.68, RES: 0.772\n",
      "RR: IF stalk-surface-above-ring = {f} THEN class = e (p=408, n=144, P=4208, N=3916) \n",
      "ER: IF bruises = {f} AND gill-attachment = {f} AND ring-number = {o} AND stalk-surface-above-ring = {f} THEN class = e (p=408, n=0, P=4208, N=3916) \n",
      "\n",
      "CR: IF bruises = {f} AND veil-color = {w} AND ring-number = {o} THEN class = p (p=3248, n=960, P=3916, N=4208), GACE: 0.079, RI: 2.677, RES: 0.771\n",
      "RR: IF stalk-surface-above-ring = {f} THEN class = e (p=408, n=144, P=4208, N=3916) \n",
      "ER: IF bruises = {f} AND veil-color = {w} AND ring-number = {o} AND stalk-surface-above-ring = {f} THEN class = e (p=408, n=0, P=4208, N=3916) \n",
      "\n",
      "CR: IF bruises = {f} AND ring-number = {o} THEN class = e (p=1152, n=3256, P=4208, N=3916), GACE: 0.071, RI: 0.894, RES: 0.418\n",
      "RR: IF stalk-surface-above-ring = {f} THEN class = e (p=408, n=144, P=4208, N=3916) \n",
      "ER: IF bruises = {f} AND ring-number = {o} AND stalk-surface-above-ring = {f} THEN class = e (p=408, n=0, P=4208, N=3916) \n",
      "\n",
      "CR: IF bruises = {f} AND veil-color = {w} THEN class = p (p=3284, n=1264, P=3916, N=4208), GACE: 0.068, RI: 2.372, RES: 0.75\n",
      "RR: IF stalk-surface-above-ring = {f} THEN class = e (p=408, n=144, P=4208, N=3916) \n",
      "ER: IF bruises = {f} AND veil-color = {w} AND stalk-surface-above-ring = {f} THEN class = e (p=408, n=0, P=4208, N=3916) \n",
      "\n",
      "CR: IF bruises = {f} AND gill-attachment = {f} THEN class = p (p=3274, n=1264, P=3916, N=4208), GACE: 0.067, RI: 2.369, RES: 0.749\n",
      "RR: IF stalk-surface-above-ring = {f} THEN class = e (p=408, n=144, P=4208, N=3916) \n",
      "ER: IF bruises = {f} AND gill-attachment = {f} AND stalk-surface-above-ring = {f} THEN class = e (p=408, n=0, P=4208, N=3916) \n",
      "\n",
      "CR: IF stalk-root = {?} AND spore-print-color = {w} THEN class = p (p=1760, n=480, P=3916, N=4208), GACE: 0.066, RI: 2.799, RES: 0.725\n",
      "RR: IF gill-size = {b} THEN class = e (p=3920, n=1692, P=4208, N=3916) \n",
      "ER: IF stalk-root = {?} AND spore-print-color = {w} AND gill-size = {b} THEN class = e (p=480, n=0, P=4208, N=3916) \n",
      "\n",
      "CR: IF bruises = {f} AND veil-color = {w} AND spore-print-color = {w} THEN class = p (p=1796, n=352, P=3916, N=4208), GACE: 0.064, RI: 3.173, RES: 0.718\n",
      "RR: IF gill-spacing = {w} AND stalk-shape = {e} THEN class = e (p=336, n=112, P=4208, N=3916) \n",
      "ER: IF bruises = {f} AND veil-color = {w} AND spore-print-color = {w} AND gill-spacing = {w} AND stalk-shape = {e} THEN class = e (p=336, n=0, P=4208, N=3916) \n",
      "\n",
      "CR: IF bruises = {f} AND gill-attachment = {f} AND ring-number = {o} THEN class = p (p=3256, n=960, P=3916, N=4208), GACE: 0.063, RI: 2.787, RES: 0.732\n",
      "RR: IF cap-color = {w} AND stalk-root = {e} THEN class = e (p=256, n=128, P=4208, N=3916) \n",
      "ER: IF bruises = {f} AND gill-attachment = {f} AND ring-number = {o} AND cap-color = {w} AND stalk-root = {e} THEN class = e (p=256, n=0, P=4208, N=3916) \n",
      "\n"
     ]
    },
    {
     "name": "stderr",
     "output_type": "stream",
     "text": [
      "c:\\Users\\dawid\\Desktop\\exception_rules_repo\\exception-rules\\exception-rules\\exception_rules\\measures.py:11: RuntimeWarning: divide by zero encountered in log2\n",
      "  not_X = cov.n/(cov.P + cov.N) * np.log2((cov.n/(cov.p+cov.n))/(cov.N/(cov.P+cov.N)))\n",
      "c:\\Users\\dawid\\Desktop\\exception_rules_repo\\exception-rules\\exception-rules\\exception_rules\\measures.py:11: RuntimeWarning: invalid value encountered in scalar multiply\n",
      "  not_X = cov.n/(cov.P + cov.N) * np.log2((cov.n/(cov.p+cov.n))/(cov.N/(cov.P+cov.N)))\n"
     ]
    }
   ],
   "source": [
    "for rule in CR_rules:\n",
    "    if rule.exception_rule is not None:\n",
    "        GACE = calculate_GACE(rule, rule.exception_rule , return_ACE = False)\n",
    "        RI = calculate_RI(rule, rule.exception_rule , rule.reference_rule)\n",
    "        RES = calculate_my_measure(rule, rule.exception_rule)\n",
    "\n",
    "        print(f\"CR: {rule}, GACE: {round(GACE,3)}, RI: {round(RI,3)}, RES: {round(RES,3)}\")\n",
    "        print(f\"RR: {rule.reference_rule} \")\n",
    "        print(f\"ER: {rule.exception_rule} \")\n",
    "        print(\"\")\n",
    "\n",
    "    else:\n",
    "        print(f\"CR: {rule}\")\n",
    "        print(\"\")"
   ]
  },
  {
   "cell_type": "code",
   "execution_count": 26,
   "metadata": {},
   "outputs": [],
   "source": [
    "with open(\"txt_results/MEPROUX_rules.txt\", \"w\", encoding=\"utf-8\") as file:\n",
    "    for rule in CR_rules:\n",
    "        if rule.exception_rule is not None:\n",
    "            GACE = calculate_GACE(rule, rule.exception_rule, return_ACE=False)\n",
    "            RI = calculate_RI(rule, rule.exception_rule, rule.reference_rule)\n",
    "            RES = calculate_my_measure(rule, rule.exception_rule)\n",
    "\n",
    "            file.write(f\"CR: {rule}, GACE: {round(GACE,3)}, RI: {round(RI,3)}, RES: {round(RES,3)}\\n\")\n",
    "            file.write(f\"RR: {rule.reference_rule} \\n\")\n",
    "            file.write(f\"ER: {rule.exception_rule} \\n\")\n",
    "            file.write(\"\\n\")\n",
    "        else:\n",
    "            file.write(f\"CR: {rule}\\n\")\n",
    "            file.write(\"\\n\")"
   ]
  },
  {
   "cell_type": "markdown",
   "metadata": {},
   "source": [
    "## Hussain"
   ]
  },
  {
   "cell_type": "code",
   "execution_count": 27,
   "metadata": {},
   "outputs": [],
   "source": [
    "df = pd.DataFrame(arff.loadarff(f\"./mushroom.arff\")[0])\n",
    "# code to change encoding of the file\n",
    "tmp_df = df.select_dtypes([object])\n",
    "tmp_df = tmp_df.stack().str.decode(\"utf-8\").unstack()\n",
    "for col in tmp_df:\n",
    "    df[col] = tmp_df[col]\n",
    "    \n",
    "X = df.drop(columns=[\"class\"])\n",
    "y = df[\"class\"]"
   ]
  },
  {
   "cell_type": "code",
   "execution_count": 28,
   "metadata": {},
   "outputs": [],
   "source": [
    "with open(f\"./txt/Hussain_rules.txt\") as file:\n",
    "    ruleset_text = file.readlines()"
   ]
  },
  {
   "cell_type": "code",
   "execution_count": 29,
   "metadata": {},
   "outputs": [],
   "source": [
    "from decision_rules.ruleset_factories._factories.classification.text_factory import TextRuleSetFactory"
   ]
  },
  {
   "cell_type": "code",
   "execution_count": 30,
   "metadata": {},
   "outputs": [],
   "source": [
    "factory = TextRuleSetFactory()\n",
    "\n",
    "ruleset = factory.make(ruleset_text, X, y)"
   ]
  },
  {
   "cell_type": "code",
   "execution_count": 31,
   "metadata": {},
   "outputs": [
    {
     "name": "stdout",
     "output_type": "stream",
     "text": [
      "IF stalk-root = {?} THEN class = p (p=1760, n=720, P=3916, N=4208)\n",
      "IF bruises = {f} AND gill-size = {b} AND stalk-shape = {e} AND veil-type = {p} THEN class = e (p=496, n=1332, P=4208, N=3916)\n",
      "IF stalk-root = {?} AND bruises = {f} AND gill-size = {b} AND stalk-shape = {e} AND veil-type = {p} THEN class = e (p=480, n=0, P=4208, N=3916)\n",
      "IF ring-type = {e} THEN class = p (p=1768, n=1008, P=3916, N=4208)\n",
      "IF bruises = {f} AND gill-size = {b} AND ring-number = {t} THEN class = e (p=304, n=0, P=4208, N=3916)\n",
      "IF ring-type = {e} AND bruises = {f} AND gill-size = {b} AND ring-number = {t} THEN class = e (p=0, n=0, P=4208, N=3916)\n",
      "IF gill-color = {p} AND veil-type = {p} AND veil-color = {w} THEN class = p (p=640, n=852, P=3916, N=4208)\n",
      "IF stalk-root = {?} THEN class = e (p=720, n=1760, P=4208, N=3916)\n",
      "IF gill-color = {p} AND veil-type = {p} AND veil-color = {w} AND stalk-root = {?} THEN class = e (p=108, n=0, P=4208, N=3916)\n",
      "IF gill-attachment = {f} AND stalk-shape = {e} AND veil-type = {p} THEN class = p (p=1882, n=1424, P=3916, N=4208)\n",
      "IF cap-surface = {s} AND veil-color = {w} THEN class = e (p=952, n=1412, P=4208, N=3916)\n",
      "IF gill-attachment = {f} AND stalk-shape = {e} AND veil-type = {p} AND cap-surface = {s} AND veil-color = {w} THEN class = e (p=520, n=260, P=4208, N=3916)\n"
     ]
    }
   ],
   "source": [
    "for rule in ruleset.rules:\n",
    "    print(rule)"
   ]
  },
  {
   "cell_type": "code",
   "execution_count": 32,
   "metadata": {},
   "outputs": [],
   "source": [
    "CR_rules = []\n",
    "\n",
    "for i in range(0, len(ruleset.rules), 3):\n",
    "    ruleset.rules[i].exception_rule = ruleset.rules[i + 2]\n",
    "    ruleset.rules[i].reference_rule = ruleset.rules[i + 1]\n",
    "    CR_rules.append(ruleset.rules[i])"
   ]
  },
  {
   "cell_type": "code",
   "execution_count": 33,
   "metadata": {},
   "outputs": [
    {
     "name": "stdout",
     "output_type": "stream",
     "text": [
      "CR: IF stalk-root = {?} THEN class = p (p=1760, n=720, P=3916, N=4208), GACE: 0.051, RI: 3.818, RES: 0.641\n",
      "RR: IF bruises = {f} AND gill-size = {b} AND stalk-shape = {e} AND veil-type = {p} THEN class = e (p=496, n=1332, P=4208, N=3916) \n",
      "ER: IF stalk-root = {?} AND bruises = {f} AND gill-size = {b} AND stalk-shape = {e} AND veil-type = {p} THEN class = e (p=480, n=0, P=4208, N=3916) \n",
      "\n",
      "CR: IF ring-type = {e} THEN class = p (p=1768, n=1008, P=3916, N=4208), GACE: 0.0, RI: 0.0, RES: 0.226\n",
      "RR: IF bruises = {f} AND gill-size = {b} AND ring-number = {t} THEN class = e (p=304, n=0, P=4208, N=3916) \n",
      "ER: IF ring-type = {e} AND bruises = {f} AND gill-size = {b} AND ring-number = {t} THEN class = e (p=0, n=0, P=4208, N=3916) \n",
      "\n",
      "CR: IF gill-color = {p} AND veil-type = {p} AND veil-color = {w} THEN class = p (p=640, n=852, P=3916, N=4208), GACE: 0.004, RI: 2.589, RES: 0.363\n",
      "RR: IF stalk-root = {?} THEN class = e (p=720, n=1760, P=4208, N=3916) \n",
      "ER: IF gill-color = {p} AND veil-type = {p} AND veil-color = {w} AND stalk-root = {?} THEN class = e (p=108, n=0, P=4208, N=3916) \n",
      "\n",
      "CR: IF gill-attachment = {f} AND stalk-shape = {e} AND veil-type = {p} THEN class = p (p=1882, n=1424, P=3916, N=4208), GACE: 0.007, RI: 1.353, RES: 0.498\n",
      "RR: IF cap-surface = {s} AND veil-color = {w} THEN class = e (p=952, n=1412, P=4208, N=3916) \n",
      "ER: IF gill-attachment = {f} AND stalk-shape = {e} AND veil-type = {p} AND cap-surface = {s} AND veil-color = {w} THEN class = e (p=520, n=260, P=4208, N=3916) \n",
      "\n"
     ]
    },
    {
     "name": "stderr",
     "output_type": "stream",
     "text": [
      "c:\\Users\\dawid\\Desktop\\exception_rules_repo\\exception-rules\\exception-rules\\exception_rules\\measures.py:11: RuntimeWarning: divide by zero encountered in log2\n",
      "  not_X = cov.n/(cov.P + cov.N) * np.log2((cov.n/(cov.p+cov.n))/(cov.N/(cov.P+cov.N)))\n",
      "c:\\Users\\dawid\\Desktop\\exception_rules_repo\\exception-rules\\exception-rules\\exception_rules\\measures.py:11: RuntimeWarning: invalid value encountered in scalar multiply\n",
      "  not_X = cov.n/(cov.P + cov.N) * np.log2((cov.n/(cov.p+cov.n))/(cov.N/(cov.P+cov.N)))\n"
     ]
    }
   ],
   "source": [
    "for rule in CR_rules:\n",
    "    if rule.exception_rule is not None:\n",
    "        GACE = calculate_GACE(rule, rule.exception_rule , return_ACE = False)\n",
    "        RI = calculate_RI(rule, rule.exception_rule , rule.reference_rule)\n",
    "        RES = calculate_my_measure(rule, rule.exception_rule)\n",
    "\n",
    "        print(f\"CR: {rule}, GACE: {round(GACE,3)}, RI: {round(RI,3)}, RES: {round(RES,3)}\")\n",
    "        print(f\"RR: {rule.reference_rule} \")\n",
    "        print(f\"ER: {rule.exception_rule} \")\n",
    "        print(\"\")\n",
    "\n",
    "    else:\n",
    "        print(f\"CR: {rule}\")\n",
    "        print(\"\")"
   ]
  },
  {
   "cell_type": "code",
   "execution_count": 34,
   "metadata": {},
   "outputs": [],
   "source": [
    "with open(\"txt_results/Hussain_rules.txt\", \"w\", encoding=\"utf-8\") as file:\n",
    "    for rule in CR_rules:\n",
    "        if rule.exception_rule is not None:\n",
    "            GACE = calculate_GACE(rule, rule.exception_rule, return_ACE=False)\n",
    "            RI = calculate_RI(rule, rule.exception_rule, rule.reference_rule)\n",
    "            RES = calculate_my_measure(rule, rule.exception_rule)\n",
    "\n",
    "            file.write(f\"CR: {rule}, GACE: {round(GACE,3)}, RI: {round(RI,3)}, RES: {round(RES,3)}\\n\")\n",
    "            file.write(f\"RR: {rule.reference_rule} \\n\")\n",
    "            file.write(f\"ER: {rule.exception_rule} \\n\")\n",
    "            file.write(\"\\n\")\n",
    "        else:\n",
    "            file.write(f\"CR: {rule}\\n\")\n",
    "            file.write(\"\\n\")"
   ]
  },
  {
   "cell_type": "markdown",
   "metadata": {},
   "source": [
    "## Ant colony"
   ]
  },
  {
   "cell_type": "code",
   "execution_count": 35,
   "metadata": {},
   "outputs": [],
   "source": [
    "df = pd.DataFrame(arff.loadarff(f\"./mushroom.arff\")[0])\n",
    "# code to change encoding of the file\n",
    "tmp_df = df.select_dtypes([object])\n",
    "tmp_df = tmp_df.stack().str.decode(\"utf-8\").unstack()\n",
    "for col in tmp_df:\n",
    "    df[col] = tmp_df[col].replace({'?': None})\n",
    "    \n",
    "X = df.drop(columns=[\"class\"])\n",
    "y = df[\"class\"]"
   ]
  },
  {
   "cell_type": "code",
   "execution_count": 36,
   "metadata": {},
   "outputs": [],
   "source": [
    "with open(f\"./txt/Ant_colony_rules.txt\") as file:\n",
    "    ruleset_text = file.readlines()"
   ]
  },
  {
   "cell_type": "code",
   "execution_count": 37,
   "metadata": {},
   "outputs": [],
   "source": [
    "from decision_rules.ruleset_factories._factories.classification.text_factory import TextRuleSetFactory"
   ]
  },
  {
   "cell_type": "code",
   "execution_count": 38,
   "metadata": {},
   "outputs": [],
   "source": [
    "factory = TextRuleSetFactory()\n",
    "\n",
    "ruleset = factory.make(ruleset_text, X, y)"
   ]
  },
  {
   "cell_type": "code",
   "execution_count": 39,
   "metadata": {},
   "outputs": [
    {
     "name": "stdout",
     "output_type": "stream",
     "text": [
      "IF odor = {n} THEN class = e (p=3408, n=120, P=4208, N=3916)\n",
      "IF stalk-color-above-ring = {y} THEN class = p (p=8, n=0, P=3916, N=4208)\n",
      "IF odor = {n} AND stalk-color-above-ring = {y} THEN class = p (p=8, n=0, P=3916, N=4208)\n",
      "IF stalk-root = {c} THEN class = e (p=512, n=44, P=4208, N=3916)\n",
      "IF ring-type = {n} THEN class = p (p=36, n=0, P=3916, N=4208)\n",
      "IF stalk-root = {c} AND ring-type = {n} THEN class = p (p=36, n=0, P=3916, N=4208)\n",
      "IF bruises = {t} THEN class = e (p=2752, n=624, P=4208, N=3916)\n",
      "IF spore-print-color = {r} THEN class = p (p=72, n=0, P=3916, N=4208)\n",
      "IF bruises = {t} AND spore-print-color = {r} THEN class = p (p=72, n=0, P=3916, N=4208)\n",
      "IF odor = {f} THEN class = p (p=2160, n=0, P=3916, N=4208)\n",
      "IF odor = {p} THEN class = p (p=256, n=0, P=3916, N=4208)\n",
      "IF odor = {a} THEN class = e (p=400, n=0, P=4208, N=3916)\n",
      "IF odor = {l} THEN class = e (p=400, n=0, P=4208, N=3916)\n",
      "IF odor = {c} THEN class = p (p=192, n=0, P=3916, N=4208)\n",
      "IF odor = {m} THEN class = p (p=36, n=0, P=3916, N=4208)\n"
     ]
    }
   ],
   "source": [
    "for rule in ruleset.rules:\n",
    "    print(rule)"
   ]
  },
  {
   "cell_type": "code",
   "execution_count": 40,
   "metadata": {},
   "outputs": [],
   "source": [
    "CR_rules = []\n",
    "\n",
    "for i in range(0, 8, 3):\n",
    "    ruleset.rules[i].exception_rule = ruleset.rules[i + 2]\n",
    "    ruleset.rules[i].reference_rule = ruleset.rules[i + 1]\n",
    "    CR_rules.append(ruleset.rules[i])\n",
    "\n",
    "for i in range(9, len(ruleset.rules)):\n",
    "    CR_rules.append(ruleset.rules[i])"
   ]
  },
  {
   "cell_type": "code",
   "execution_count": 41,
   "metadata": {},
   "outputs": [
    {
     "name": "stdout",
     "output_type": "stream",
     "text": [
      "CR: IF odor = {n} THEN class = e (p=3408, n=120, P=4208, N=3916), GACE: 0.018, RI: 4.883, RES: 0.672\n",
      "RR: IF stalk-color-above-ring = {y} THEN class = p (p=8, n=0, P=3916, N=4208) \n",
      "ER: IF odor = {n} AND stalk-color-above-ring = {y} THEN class = p (p=8, n=0, P=3916, N=4208) \n",
      "\n",
      "CR: IF stalk-root = {c} THEN class = e (p=512, n=44, P=4208, N=3916), GACE: 0.013, RI: 3.689, RES: 0.515\n",
      "RR: IF ring-type = {n} THEN class = p (p=36, n=0, P=3916, N=4208) \n",
      "ER: IF stalk-root = {c} AND ring-type = {n} THEN class = p (p=36, n=0, P=3916, N=4208) \n",
      "\n",
      "CR: IF bruises = {t} THEN class = e (p=2752, n=624, P=4208, N=3916), GACE: 0.033, RI: 2.46, RES: 0.606\n",
      "RR: IF spore-print-color = {r} THEN class = p (p=72, n=0, P=3916, N=4208) \n",
      "ER: IF bruises = {t} AND spore-print-color = {r} THEN class = p (p=72, n=0, P=3916, N=4208) \n",
      "\n",
      "CR: IF odor = {f} THEN class = p (p=2160, n=0, P=3916, N=4208)\n",
      "\n",
      "CR: IF odor = {p} THEN class = p (p=256, n=0, P=3916, N=4208)\n",
      "\n",
      "CR: IF odor = {a} THEN class = e (p=400, n=0, P=4208, N=3916)\n",
      "\n",
      "CR: IF odor = {l} THEN class = e (p=400, n=0, P=4208, N=3916)\n",
      "\n",
      "CR: IF odor = {c} THEN class = p (p=192, n=0, P=3916, N=4208)\n",
      "\n",
      "CR: IF odor = {m} THEN class = p (p=36, n=0, P=3916, N=4208)\n",
      "\n"
     ]
    },
    {
     "name": "stderr",
     "output_type": "stream",
     "text": [
      "c:\\Users\\dawid\\Desktop\\exception_rules_repo\\exception-rules\\exception-rules\\exception_rules\\measures.py:11: RuntimeWarning: divide by zero encountered in log2\n",
      "  not_X = cov.n/(cov.P + cov.N) * np.log2((cov.n/(cov.p+cov.n))/(cov.N/(cov.P+cov.N)))\n",
      "c:\\Users\\dawid\\Desktop\\exception_rules_repo\\exception-rules\\exception-rules\\exception_rules\\measures.py:11: RuntimeWarning: invalid value encountered in scalar multiply\n",
      "  not_X = cov.n/(cov.P + cov.N) * np.log2((cov.n/(cov.p+cov.n))/(cov.N/(cov.P+cov.N)))\n"
     ]
    }
   ],
   "source": [
    "for rule in CR_rules:\n",
    "    if rule.exception_rule is not None:\n",
    "        GACE = calculate_GACE(rule, rule.exception_rule , return_ACE = False)\n",
    "        RI = calculate_RI(rule, rule.exception_rule , rule.reference_rule)\n",
    "        RES = calculate_my_measure(rule, rule.exception_rule)\n",
    "\n",
    "        print(f\"CR: {rule}, GACE: {round(GACE,3)}, RI: {round(RI,3)}, RES: {round(RES,3)}\")\n",
    "        print(f\"RR: {rule.reference_rule} \")\n",
    "        print(f\"ER: {rule.exception_rule} \")\n",
    "        print(\"\")\n",
    "\n",
    "    else:\n",
    "        print(f\"CR: {rule}\")\n",
    "        print(\"\")"
   ]
  },
  {
   "cell_type": "code",
   "execution_count": 42,
   "metadata": {},
   "outputs": [],
   "source": [
    "with open(\"txt_results/Ant_colony_rules.txt\", \"w\", encoding=\"utf-8\") as file:\n",
    "    for rule in CR_rules:\n",
    "        if rule.exception_rule is not None:\n",
    "            GACE = calculate_GACE(rule, rule.exception_rule, return_ACE=False)\n",
    "            RI = calculate_RI(rule, rule.exception_rule, rule.reference_rule)\n",
    "            RES = calculate_my_measure(rule, rule.exception_rule)\n",
    "\n",
    "            file.write(f\"CR: {rule}, GACE: {round(GACE,3)}, RI: {round(RI,3)}, RES: {round(RES,3)}\\n\")\n",
    "            file.write(f\"RR: {rule.reference_rule} \\n\")\n",
    "            file.write(f\"ER: {rule.exception_rule} \\n\")\n",
    "            file.write(\"\\n\")\n",
    "        else:\n",
    "            file.write(f\"CR: {rule}\\n\")\n",
    "            file.write(\"\\n\")"
   ]
  }
 ],
 "metadata": {
  "kernelspec": {
   "display_name": "exception-rules",
   "language": "python",
   "name": "python3"
  },
  "language_info": {
   "codemirror_mode": {
    "name": "ipython",
    "version": 3
   },
   "file_extension": ".py",
   "mimetype": "text/x-python",
   "name": "python",
   "nbconvert_exporter": "python",
   "pygments_lexer": "ipython3",
   "version": "3.10.15"
  }
 },
 "nbformat": 4,
 "nbformat_minor": 2
}
